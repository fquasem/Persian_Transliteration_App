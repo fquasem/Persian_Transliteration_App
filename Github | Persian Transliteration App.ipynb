{
 "cells": [
  {
   "cell_type": "code",
   "execution_count": null,
   "id": "97a99908",
   "metadata": {},
   "outputs": [],
   "source": [
    "def open_csv(file_name):\n",
    "    opened_file = open(file_name)\n",
    "    from csv import reader\n",
    "    read_file = reader(opened_file)\n",
    "    data = list(read_file)\n",
    "    return data\n",
    "\n",
    "raw_dataset = open_csv('https://raw.githubusercontent.com/fquasem/Persian_Transliteration_App/main/Transliteration%20V1%20-%20Test%20Database.csv?token=GHSAT0AAAAAABT4E6HUMUJ7QNTMVTRPYRSOYTFLTNQ')\n",
    "clean_dataset = raw_dataset[1:]"
   ]
  },
  {
   "cell_type": "code",
   "execution_count": null,
   "id": "4935aaf3",
   "metadata": {},
   "outputs": [],
   "source": [
    "dictionary = {}\n",
    "\n",
    "english = []\n",
    "persian_transliteration = []\n",
    "\n",
    "for row in clean_dataset:\n",
    "    english_word = row[0]\n",
    "    persian_transliteration_word = row[1]\n",
    "    english.append(english_word)\n",
    "    persian_transliteration.append(persian_transliteration_word)\n",
    "    \n",
    "dictionary = dict(zip(english, persian_transliteration))\n",
    "\n",
    "# The above is confirmed to work ***    "
   ]
  },
  {
   "cell_type": "code",
   "execution_count": null,
   "id": "4a16d92c",
   "metadata": {
    "scrolled": true
   },
   "outputs": [],
   "source": [
    "query = input(\"Enter your English word in all lowercase letters: \")\n",
    "\n",
    "print(\"The Persian transliteration is \" + dictionary[query])"
   ]
  }
 ],
 "metadata": {
  "kernelspec": {
   "display_name": "Python 3 (ipykernel)",
   "language": "python",
   "name": "python3"
  },
  "language_info": {
   "codemirror_mode": {
    "name": "ipython",
    "version": 3
   },
   "file_extension": ".py",
   "mimetype": "text/x-python",
   "name": "python",
   "nbconvert_exporter": "python",
   "pygments_lexer": "ipython3",
   "version": "3.9.7"
  }
 },
 "nbformat": 4,
 "nbformat_minor": 5
}
